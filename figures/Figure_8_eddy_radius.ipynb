{
 "cells": [
  {
   "cell_type": "code",
   "execution_count": 1,
   "metadata": {},
   "outputs": [],
   "source": [
    "import xarray as xr\n",
    "import numpy as np\n",
    "import cmocean as cm\n",
    "import os\n",
    "import pandas as pd\n",
    "from matplotlib import cm as cmap\n",
    "%matplotlib inline\n",
    "import pylab as plt"
   ]
  },
  {
   "cell_type": "code",
   "execution_count": 2,
   "metadata": {},
   "outputs": [],
   "source": [
    "from dask.distributed import Client"
   ]
  },
  {
   "cell_type": "code",
   "execution_count": 3,
   "metadata": {},
   "outputs": [],
   "source": [
    "import dask.dataframe as dd"
   ]
  },
  {
   "cell_type": "code",
   "execution_count": 4,
   "metadata": {},
   "outputs": [
    {
     "data": {
      "text/html": [
       "<table style=\"border: 2px solid white;\">\n",
       "<tr>\n",
       "<td style=\"vertical-align: top; border: 0px solid white\">\n",
       "<h3 style=\"text-align: left;\">Client</h3>\n",
       "<ul style=\"text-align: left; list-style: none; margin: 0; padding: 0;\">\n",
       "  <li><b>Scheduler: </b>tcp://127.0.0.1:40913</li>\n",
       "  <li><b>Dashboard: </b><a href='/proxy/8787/status' target='_blank'>/proxy/8787/status</a></li>\n",
       "</ul>\n",
       "</td>\n",
       "<td style=\"vertical-align: top; border: 0px solid white\">\n",
       "<h3 style=\"text-align: left;\">Cluster</h3>\n",
       "<ul style=\"text-align: left; list-style:none; margin: 0; padding: 0;\">\n",
       "  <li><b>Workers: </b>6</li>\n",
       "  <li><b>Cores: </b>24</li>\n",
       "  <li><b>Memory: </b>103.08 GB</li>\n",
       "</ul>\n",
       "</td>\n",
       "</tr>\n",
       "</table>"
      ],
      "text/plain": [
       "<Client: 'tcp://127.0.0.1:40913' processes=6 threads=24, memory=103.08 GB>"
      ]
     },
     "execution_count": 4,
     "metadata": {},
     "output_type": "execute_result"
    }
   ],
   "source": [
    "c=Client()\n",
    "c"
   ]
  },
  {
   "cell_type": "code",
   "execution_count": 5,
   "metadata": {},
   "outputs": [],
   "source": [
    "data=pd.read_csv('/g/data/v45/jm5970/AVISO_dataframe/trackeddy_V1.0_global_eddies.csv')\n",
    "data['time']=pd.to_datetime(data['time'])"
   ]
  },
  {
   "cell_type": "code",
   "execution_count": 6,
   "metadata": {},
   "outputs": [],
   "source": [
    "diameter_data =  data[['area_eddy']].copy()\n",
    "diameter_data['eddy_amplitude'] = abs(data['eddy_amplitude'])\n",
    "diameter_data['time'] = data['time']\n",
    "diameter_data['maxima_loc_y'] = data['maxima_loc_y']\n",
    "diameter_data['diameter'] = ( np.sqrt(data[['area_eddy']]/(np.pi))*2 )/ 1000"
   ]
  },
  {
   "cell_type": "code",
   "execution_count": 7,
   "metadata": {},
   "outputs": [],
   "source": [
    "diameter_data['binned_area'] = pd.cut(diameter_data['diameter'], np.linspace(0,4e2,50))"
   ]
  },
  {
   "cell_type": "code",
   "execution_count": 8,
   "metadata": {},
   "outputs": [],
   "source": [
    "diameter_data_hist = diameter_data.groupby(diameter_data['binned_area']).count()"
   ]
  },
  {
   "cell_type": "code",
   "execution_count": 9,
   "metadata": {},
   "outputs": [],
   "source": [
    "diameter_data_hist = diameter_data_hist.reset_index()"
   ]
  },
  {
   "cell_type": "code",
   "execution_count": 10,
   "metadata": {},
   "outputs": [],
   "source": [
    "diameter_data_hist['binned_area']=np.linspace(0,4e2,49)"
   ]
  },
  {
   "cell_type": "code",
   "execution_count": 11,
   "metadata": {},
   "outputs": [],
   "source": [
    "diameter_data_hist = diameter_data_hist.set_index('binned_area')"
   ]
  },
  {
   "cell_type": "code",
   "execution_count": 17,
   "metadata": {},
   "outputs": [],
   "source": [
    "ts_large_diameter_nh_ungroup = diameter_data.where(diameter_data['maxima_loc_y'] >10).where(diameter_data['maxima_loc_y'] < 60).where(diameter_data['diameter']>120).dropna()\n",
    "ts_small_diameter_nh_ungroup = diameter_data.where(diameter_data['maxima_loc_y'] >10).where(diameter_data['maxima_loc_y'] < 60).where(diameter_data['diameter']<120).dropna()"
   ]
  },
  {
   "cell_type": "code",
   "execution_count": 18,
   "metadata": {},
   "outputs": [],
   "source": [
    "ts_large_diameter_nh = ts_large_diameter_nh_ungroup.groupby(\"time\").mean()\n",
    "ts_small_diameter_nh = ts_small_diameter_nh_ungroup.groupby(\"time\").mean()"
   ]
  },
  {
   "cell_type": "code",
   "execution_count": 19,
   "metadata": {},
   "outputs": [],
   "source": [
    "ts_large_diameter_sh_ungroup = diameter_data.where(diameter_data['maxima_loc_y'] < -10).where(diameter_data['maxima_loc_y'] > -60).where(diameter_data['diameter']>120).dropna()\n",
    "ts_small_diameter_sh_ungroup = diameter_data.where(diameter_data['maxima_loc_y'] < -10).where(diameter_data['maxima_loc_y'] > -60).where(diameter_data['diameter']<120).dropna()"
   ]
  },
  {
   "cell_type": "code",
   "execution_count": 20,
   "metadata": {},
   "outputs": [],
   "source": [
    "ts_large_diameter_sh = ts_large_diameter_sh_ungroup.groupby(\"time\").mean()\n",
    "ts_small_diameter_sh = ts_small_diameter_sh_ungroup.groupby(\"time\").mean()"
   ]
  },
  {
   "cell_type": "markdown",
   "metadata": {},
   "source": [
    "### Sample randomly"
   ]
  },
  {
   "cell_type": "code",
   "execution_count": 21,
   "metadata": {},
   "outputs": [],
   "source": [
    "number_large_eddies = len(ts_large_diameter_nh_ungroup.unstack())"
   ]
  },
  {
   "cell_type": "code",
   "execution_count": 100,
   "metadata": {},
   "outputs": [],
   "source": [
    "percentage_to_extract = int(number_large_eddies*0.01)"
   ]
  },
  {
   "cell_type": "code",
   "execution_count": 101,
   "metadata": {},
   "outputs": [],
   "source": [
    "# ts_large_diameter_nh_sampled = ts_large_diameter_nh_ungroup.sample(percentage_to_extract)\n",
    "# ts_small_diameter_nh_sampled = ts_small_diameter_nh_ungroup.sample(percentage_to_extract)"
   ]
  },
  {
   "cell_type": "code",
   "execution_count": 102,
   "metadata": {},
   "outputs": [],
   "source": [
    "# ts_large_diameter_sh_sampled = ts_large_diameter_sh_ungroup.sample(percentage_to_extract)\n",
    "# ts_small_diameter_sh_sampled = ts_small_diameter_sh_ungroup.sample(percentage_to_extract)"
   ]
  },
  {
   "cell_type": "code",
   "execution_count": 103,
   "metadata": {},
   "outputs": [],
   "source": [
    "# scale_sampes = {'nh':{'large':[],'small':[]}, 'sh':{'large':[],'small':[]}}\n",
    "def compute_sample(data,n,n_samples=100):\n",
    "    sample_store = {ii:None for ii in range(n_samples)}\n",
    "    for sample in range(n_samples):\n",
    "        sampled_data = data.sample(n)\n",
    "        ts_sampled_data = sampled_data.groupby(\"time\").mean()\n",
    "        ts_sampled_data['month'] = ts_sampled_data.index.month\n",
    "        season_sampled_data = ts_sampled_data.groupby(['month']).mean()\n",
    "        season_sampled_data.loc[0]= season_sampled_data.loc[12]\n",
    "        season_sampled_data.loc[13]= season_sampled_data.loc[1]\n",
    "        season_sampled_data = season_sampled_data.sort_index()\n",
    "        sample_store[sample] = season_sampled_data\n",
    "    return pd.concat(sample_store)"
   ]
  },
  {
   "cell_type": "code",
   "execution_count": 104,
   "metadata": {},
   "outputs": [],
   "source": [
    "ts_large_diameter_nh['month'] = ts_large_diameter_nh.index.month\n",
    "ts_small_diameter_nh['month'] = ts_small_diameter_nh.index.month\n",
    "ts_large_diameter_sh['month'] = ts_large_diameter_sh.index.month\n",
    "ts_small_diameter_sh['month'] = ts_small_diameter_sh.index.month"
   ]
  },
  {
   "cell_type": "code",
   "execution_count": 105,
   "metadata": {},
   "outputs": [],
   "source": [
    "ts_large_diameter_nh_season = ts_large_diameter_nh.groupby(['month']).mean()\n",
    "ts_large_diameter_nh_season.loc[0]= ts_large_diameter_nh_season.loc[12]\n",
    "ts_large_diameter_nh_season.loc[13]= ts_large_diameter_nh_season.loc[1]\n",
    "ts_large_diameter_nh_season = ts_large_diameter_nh_season.sort_index()"
   ]
  },
  {
   "cell_type": "code",
   "execution_count": 106,
   "metadata": {},
   "outputs": [],
   "source": [
    "ts_small_diameter_nh_season = ts_small_diameter_nh.groupby(['month']).mean()\n",
    "ts_small_diameter_nh_season.loc[0]= ts_small_diameter_nh_season.loc[12]\n",
    "ts_small_diameter_nh_season.loc[13]= ts_small_diameter_nh_season.loc[1]\n",
    "ts_small_diameter_nh_season = ts_small_diameter_nh_season.sort_index()"
   ]
  },
  {
   "cell_type": "code",
   "execution_count": 107,
   "metadata": {},
   "outputs": [],
   "source": [
    "ts_large_diameter_sh_season = ts_large_diameter_sh.groupby(['month']).mean()\n",
    "ts_large_diameter_sh_season.loc[0]= ts_large_diameter_sh_season.loc[12]\n",
    "ts_large_diameter_sh_season.loc[13]= ts_large_diameter_sh_season.loc[1]\n",
    "ts_large_diameter_sh_season = ts_large_diameter_sh_season.sort_index()"
   ]
  },
  {
   "cell_type": "code",
   "execution_count": 108,
   "metadata": {},
   "outputs": [],
   "source": [
    "ts_small_diameter_sh_season = ts_small_diameter_sh.groupby(['month']).mean()\n",
    "ts_small_diameter_sh_season.loc[0]= ts_small_diameter_sh_season.loc[12]\n",
    "ts_small_diameter_sh_season.loc[13]= ts_small_diameter_sh_season.loc[1]\n",
    "ts_small_diameter_sh_season = ts_small_diameter_sh_season.sort_index()"
   ]
  },
  {
   "cell_type": "code",
   "execution_count": null,
   "metadata": {},
   "outputs": [],
   "source": []
  },
  {
   "cell_type": "code",
   "execution_count": 109,
   "metadata": {},
   "outputs": [
    {
     "data": {
      "image/png": "[encoded data removed]",
      "text/plain": [
       "<Figure size 576x216 with 5 Axes>"
      ]
     },
     "metadata": {},
     "output_type": "display_data"
    }
   ],
   "source": [
    "fig=plt.figure(figsize=(8,3))\n",
    "plt.rcParams.update({'hatch.color': '#9C9C9C'})\n",
    "\n",
    "#################################################################\n",
    "\n",
    "grid = plt.GridSpec(2, 5, wspace=0.7, hspace=0.3)\n",
    "\n",
    "axs1 = fig.add_subplot(grid[0:3, 0:3])\n",
    "\n",
    "percent_eddies = ((diameter_data_hist['area_eddy']/diameter_data_hist['area_eddy'].sum())*100)\n",
    "axs1.plot(percent_eddies.index,percent_eddies,color='k')\n",
    "\n",
    "\n",
    "q_05 = diameter_data_hist['area_eddy'].quantile(q=0.15)/1000\n",
    "q_95 = diameter_data_hist['area_eddy'].quantile(q=0.452)/1000\n",
    "\n",
    "fill_x = diameter_data_hist['area_eddy'].loc[slice(0,120)].index\n",
    "axs1.fill_between(fill_x,percent_eddies.loc[slice(0,120)],color='#C0C0C0',zorder=2,hatch='/.')\n",
    "axs1.fill_between(fill_x,percent_eddies.loc[slice(0,120)],alpha=0,zorder=3,hatch='//.')\n",
    "fill_x = diameter_data_hist['area_eddy'].loc[slice(110,400)].index\n",
    "axs1.fill_between(fill_x,percent_eddies.loc[slice(110,400)],color='#525252',zorder=2)\n",
    "axs1.plot([120,120],[0,5],color='k',linewidth=2)\n",
    "\n",
    "fill_x = diameter_data_hist['area_eddy'].loc[slice(q_05,q_95)].index\n",
    "axs1.fill_between(fill_x,list([-0.2])*22,color='k',zorder=4)\n",
    "\n",
    "axs1.set_xlabel(r'$\\mathrm{cEddy}_d$ ') \n",
    "axs1.set_ylabel(r'% of eddies') \n",
    "axs1.grid(zorder=-1)\n",
    "axs1.set_xlim((0,400))\n",
    "axs1.set_ylim((-0.2,8))\n",
    "\n",
    "axs2 = fig.add_subplot(grid[0, 3:5])\n",
    "ts_large_diameter_nh_season['diameter'].plot(ax=axs2,linestyle='-',color='#222222')\n",
    "# Display error \n",
    "ts_large_diameter_nh_sampled = compute_sample(ts_large_diameter_nh_ungroup,percentage_to_extract)\n",
    "max_range = ts_large_diameter_nh_sampled['diameter'].unstack().max()\n",
    "min_range = ts_large_diameter_nh_sampled['diameter'].unstack().min()\n",
    "plt.fill_between(min_range.index,min_range.values,max_range.values,color='gray',alpha=0.7)\n",
    "axs2.set_yticks((177,180,183))\n",
    "\n",
    "# axs2.tick_params(axis='y', colors='#525252')\n",
    "\n",
    "axs2_t = axs2.twinx()\n",
    "ts_small_diameter_nh_season['diameter'].plot(ax=axs2_t,linestyle='-.',color='gray')\n",
    "# Display error \n",
    "ts_small_diameter_nh_sampled = compute_sample(ts_small_diameter_nh_ungroup,percentage_to_extract)\n",
    "max_range = ts_small_diameter_nh_sampled['diameter'].unstack().max()\n",
    "min_range = ts_small_diameter_nh_sampled['diameter'].unstack().min()\n",
    "plt.fill_between(min_range.index,min_range.values,max_range.values,color='gray',alpha=0.3)\n",
    "axs2_t.set_yticks((84.8,85.4,86))\n",
    "\n",
    "axs2.grid()\n",
    "axs2.set_xticks(np.arange(1,14,3))\n",
    "axs2.set_xlim((0,13))\n",
    "axs2.set_xticklabels([])\n",
    "axs2.set_xlabel('')\n",
    "axs2.set_title(\"NH (km)\",y=0.95)\n",
    "axs2_t.tick_params(axis='y', colors='gray')\n",
    "\n",
    "axs3 = fig.add_subplot(grid[1, 3:5])\n",
    "ts_large_diameter_sh_season['diameter'].plot(ax=axs3,linestyle='-',color='#222222')\n",
    "# Display error \n",
    "ts_large_diameter_nh_sampled = compute_sample(ts_large_diameter_sh_ungroup,percentage_to_extract)\n",
    "max_range = ts_large_diameter_sh_sampled['diameter'].unstack().max()\n",
    "min_range = ts_large_diameter_sh_sampled['diameter'].unstack().min()\n",
    "plt.fill_between(min_range.index,min_range.values,max_range.values,color='gray',alpha=0.7)\n",
    "axs3.set_yticks((170,173,176))\n",
    "# axs3.tick_params(axis='y', colors='#525252')\n",
    "\n",
    "axs3_t = axs3.twinx()\n",
    "ts_small_diameter_sh_season['diameter'].plot(ax=axs3_t,linestyle='-.',color='gray')\n",
    "# Display error \n",
    "ts_small_diameter_sh_sampled = compute_sample(ts_small_diameter_sh_ungroup,percentage_to_extract)\n",
    "max_range = ts_small_diameter_sh_sampled['diameter'].unstack().max()\n",
    "min_range = ts_small_diameter_sh_sampled['diameter'].unstack().min()\n",
    "plt.fill_between(min_range.index,min_range.values,max_range.values,color='gray',alpha=0.3)\n",
    "axs3_t.set_yticks((83.8,84.4,85))\n",
    "\n",
    "axs3.set_title(\"SH (km)\",y=0.95)\n",
    "axs3_t.tick_params(axis='y', colors='gray')\n",
    "\n",
    "axs3.grid()\n",
    "axs3.set_xticks(np.arange(1,14,3))\n",
    "axs3.set_xlim((0,13))\n",
    "axs3.set_xticklabels(['Jan','Apr','Jul','Oct','Jan']);\n",
    "\n",
    "axs1.text(0.03,1.02,r'a)',fontsize=12,transform=axs1.transAxes)\n",
    "axs2.text(0.03,1.05,r'b)',fontsize=12,transform=axs2.transAxes)\n",
    "axs3.text(0.03,1.05,r'c)',fontsize=12,transform=axs3.transAxes)\n",
    "\n",
    "axs3.set_xlabel('Month')\n",
    "\n",
    "axs1.plot([0,0],[0,0],linestyle='-',color='#222222', label=\"$\\mathrm{cEddy}_d >$ 120 km\")\n",
    "axs1.plot([0,0],[0,0],linestyle='-.',color='gray', label=\"$\\mathrm{cEddy}_d <$ 120 km\")\n",
    "axs1.legend(loc='upper center', bbox_to_anchor=(0.9, 1.27), ncol=2)\n",
    "\n",
    "plt.savefig('eddy_diameter_seasonal.pdf',dpi=300,bbox_inches='tight')"
   ]
  },
  {
   "cell_type": "code",
   "execution_count": 110,
   "metadata": {},
   "outputs": [
    {
     "data": {
      "text/plain": [
       "345885"
      ]
     },
     "execution_count": 110,
     "metadata": {},
     "output_type": "execute_result"
    }
   ],
   "source": [
    "percentage_to_extract"
   ]
  },
  {
   "cell_type": "code",
   "execution_count": 111,
   "metadata": {},
   "outputs": [
    {
     "data": {
      "text/plain": [
       "34588566"
      ]
     },
     "execution_count": 111,
     "metadata": {},
     "output_type": "execute_result"
    }
   ],
   "source": [
    "number_large_eddies"
   ]
  },
  {
   "cell_type": "code",
   "execution_count": 76,
   "metadata": {},
   "outputs": [
    {
     "data": {
      "text/plain": [
       "array([ 1,  4,  7, 10, 13])"
      ]
     },
     "execution_count": 76,
     "metadata": {},
     "output_type": "execute_result"
    }
   ],
   "source": [
    "np.arange(1,14,3)"
   ]
  },
  {
   "cell_type": "code",
   "execution_count": 1,
   "metadata": {},
   "outputs": [
    {
     "name": "stdout",
     "output_type": "stream",
     "text": [
      "/g/data/v45/jm5970/scripts_papers/paper_transient_climatology\n"
     ]
    }
   ],
   "source": [
    "!pwd"
   ]
  },
  {
   "cell_type": "code",
   "execution_count": 60,
   "metadata": {},
   "outputs": [
    {
     "data": {
      "text/plain": [
       "['Dec']"
      ]
     },
     "execution_count": 60,
     "metadata": {},
     "output_type": "execute_result"
    }
   ],
   "source": [
    "np.arange(0,14,4)\n",
    "['Jan','Apr','July','Oct','Jan']"
   ]
  },
  {
   "cell_type": "code",
   "execution_count": 19,
   "metadata": {},
   "outputs": [
    {
     "data": {
      "text/plain": [
       "4.812123287609869"
      ]
     },
     "execution_count": 19,
     "metadata": {},
     "output_type": "execute_result"
    }
   ],
   "source": [
    "percent_eddies.loc[125.00000000000001]"
   ]
  },
  {
   "cell_type": "code",
   "execution_count": 53,
   "metadata": {},
   "outputs": [
    {
     "data": {
      "text/html": [
       "<div>\n",
       "<style scoped>\n",
       "    .dataframe tbody tr th:only-of-type {\n",
       "        vertical-align: middle;\n",
       "    }\n",
       "\n",
       "    .dataframe tbody tr th {\n",
       "        vertical-align: top;\n",
       "    }\n",
       "\n",
       "    .dataframe thead th {\n",
       "        text-align: right;\n",
       "    }\n",
       "</style>\n",
       "<table border=\"1\" class=\"dataframe\">\n",
       "  <thead>\n",
       "    <tr style=\"text-align: right;\">\n",
       "      <th></th>\n",
       "      <th>area_eddy</th>\n",
       "      <th>eddy_amplitude</th>\n",
       "      <th>maxima_loc_y</th>\n",
       "      <th>diameter</th>\n",
       "    </tr>\n",
       "    <tr>\n",
       "      <th>month</th>\n",
       "      <th></th>\n",
       "      <th></th>\n",
       "      <th></th>\n",
       "      <th></th>\n",
       "    </tr>\n",
       "  </thead>\n",
       "  <tbody>\n",
       "    <tr>\n",
       "      <th>-1</th>\n",
       "      <td>5.942562e+09</td>\n",
       "      <td>0.094105</td>\n",
       "      <td>-41.300143</td>\n",
       "      <td>84.753255</td>\n",
       "    </tr>\n",
       "    <tr>\n",
       "      <th>1</th>\n",
       "      <td>5.950813e+09</td>\n",
       "      <td>0.095249</td>\n",
       "      <td>-41.661998</td>\n",
       "      <td>84.804117</td>\n",
       "    </tr>\n",
       "    <tr>\n",
       "      <th>2</th>\n",
       "      <td>5.918469e+09</td>\n",
       "      <td>0.095053</td>\n",
       "      <td>-41.812244</td>\n",
       "      <td>84.553964</td>\n",
       "    </tr>\n",
       "    <tr>\n",
       "      <th>3</th>\n",
       "      <td>5.880437e+09</td>\n",
       "      <td>0.094430</td>\n",
       "      <td>-41.828953</td>\n",
       "      <td>84.278516</td>\n",
       "    </tr>\n",
       "    <tr>\n",
       "      <th>4</th>\n",
       "      <td>5.848561e+09</td>\n",
       "      <td>0.094164</td>\n",
       "      <td>-41.762444</td>\n",
       "      <td>84.022809</td>\n",
       "    </tr>\n",
       "    <tr>\n",
       "      <th>5</th>\n",
       "      <td>5.841883e+09</td>\n",
       "      <td>0.094390</td>\n",
       "      <td>-41.632666</td>\n",
       "      <td>83.975214</td>\n",
       "    </tr>\n",
       "    <tr>\n",
       "      <th>6</th>\n",
       "      <td>5.831320e+09</td>\n",
       "      <td>0.093228</td>\n",
       "      <td>-41.391988</td>\n",
       "      <td>83.905151</td>\n",
       "    </tr>\n",
       "    <tr>\n",
       "      <th>7</th>\n",
       "      <td>5.834451e+09</td>\n",
       "      <td>0.092009</td>\n",
       "      <td>-41.076604</td>\n",
       "      <td>83.932196</td>\n",
       "    </tr>\n",
       "    <tr>\n",
       "      <th>8</th>\n",
       "      <td>5.856789e+09</td>\n",
       "      <td>0.091260</td>\n",
       "      <td>-40.717018</td>\n",
       "      <td>84.114559</td>\n",
       "    </tr>\n",
       "    <tr>\n",
       "      <th>9</th>\n",
       "      <td>5.873564e+09</td>\n",
       "      <td>0.090919</td>\n",
       "      <td>-40.468071</td>\n",
       "      <td>84.256627</td>\n",
       "    </tr>\n",
       "    <tr>\n",
       "      <th>10</th>\n",
       "      <td>5.909416e+09</td>\n",
       "      <td>0.091232</td>\n",
       "      <td>-40.525064</td>\n",
       "      <td>84.522193</td>\n",
       "    </tr>\n",
       "    <tr>\n",
       "      <th>11</th>\n",
       "      <td>5.933989e+09</td>\n",
       "      <td>0.092778</td>\n",
       "      <td>-40.903932</td>\n",
       "      <td>84.703089</td>\n",
       "    </tr>\n",
       "    <tr>\n",
       "      <th>12</th>\n",
       "      <td>5.942562e+09</td>\n",
       "      <td>0.094105</td>\n",
       "      <td>-41.300143</td>\n",
       "      <td>84.753255</td>\n",
       "    </tr>\n",
       "    <tr>\n",
       "      <th>13</th>\n",
       "      <td>5.950813e+09</td>\n",
       "      <td>0.095249</td>\n",
       "      <td>-41.661998</td>\n",
       "      <td>84.804117</td>\n",
       "    </tr>\n",
       "  </tbody>\n",
       "</table>\n",
       "</div>"
      ],
      "text/plain": [
       "          area_eddy  eddy_amplitude  maxima_loc_y   diameter\n",
       "month                                                       \n",
       "-1     5.942562e+09        0.094105    -41.300143  84.753255\n",
       " 1     5.950813e+09        0.095249    -41.661998  84.804117\n",
       " 2     5.918469e+09        0.095053    -41.812244  84.553964\n",
       " 3     5.880437e+09        0.094430    -41.828953  84.278516\n",
       " 4     5.848561e+09        0.094164    -41.762444  84.022809\n",
       " 5     5.841883e+09        0.094390    -41.632666  83.975214\n",
       " 6     5.831320e+09        0.093228    -41.391988  83.905151\n",
       " 7     5.834451e+09        0.092009    -41.076604  83.932196\n",
       " 8     5.856789e+09        0.091260    -40.717018  84.114559\n",
       " 9     5.873564e+09        0.090919    -40.468071  84.256627\n",
       " 10    5.909416e+09        0.091232    -40.525064  84.522193\n",
       " 11    5.933989e+09        0.092778    -40.903932  84.703089\n",
       " 12    5.942562e+09        0.094105    -41.300143  84.753255\n",
       " 13    5.950813e+09        0.095249    -41.661998  84.804117"
      ]
     },
     "execution_count": 53,
     "metadata": {},
     "output_type": "execute_result"
    }
   ],
   "source": [
    "ts_small_diameter_sh_season"
   ]
  },
  {
   "cell_type": "code",
   "execution_count": null,
   "metadata": {},
   "outputs": [],
   "source": []
  }
 ],
 "metadata": {
  "kernelspec": {
   "display_name": "Python [conda env:miniconda3-analysis3-21.10] *",
   "language": "python",
   "name": "conda-env-miniconda3-analysis3-21.10-py"
  },
  "language_info": {
   "codemirror_mode": {
    "name": "ipython",
    "version": 3
   },
   "file_extension": ".py",
   "mimetype": "text/x-python",
   "name": "python",
   "nbconvert_exporter": "python",
   "pygments_lexer": "ipython3",
   "version": "3.9.9"
  }
 },
 "nbformat": 4,
 "nbformat_minor": 4
}
