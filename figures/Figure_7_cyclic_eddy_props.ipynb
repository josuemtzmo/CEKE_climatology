{
 "cells": [
  {
   "cell_type": "code",
   "execution_count": 1,
   "metadata": {},
   "outputs": [],
   "source": [
    "import xarray as xr\n",
    "import numpy as np\n",
    "import cmocean as cm\n",
    "import os\n",
    "import pandas as pd\n",
    "from matplotlib import cm as cmap\n",
    "%matplotlib inline"
   ]
  },
  {
   "cell_type": "code",
   "execution_count": 2,
   "metadata": {},
   "outputs": [],
   "source": [
    "from dask.distributed import Client"
   ]
  },
  {
   "cell_type": "code",
   "execution_count": 3,
   "metadata": {},
   "outputs": [
    {
     "name": "stderr",
     "output_type": "stream",
     "text": [
      "/g/data/hh5/public/apps/miniconda3/envs/analysis3-22.01/lib/python3.9/site-packages/distributed/node.py:177: UserWarning: Port 8787 is already in use.\n",
      "Perhaps you already have a cluster running?\n",
      "Hosting the HTTP server on port 45113 instead\n",
      "  warnings.warn(\n"
     ]
    },
    {
     "data": {
      "text/html": [
       "<div>\n",
       "    <div style=\"width: 24px; height: 24px; background-color: #e1e1e1; border: 3px solid #9D9D9D; border-radius: 5px; position: absolute;\"> </div>\n",
       "    <div style=\"margin-left: 48px;\">\n",
       "        <h3 style=\"margin-bottom: 0px;\">Client</h3>\n",
       "        <p style=\"color: #9D9D9D; margin-bottom: 0px;\">Client-80596b8b-dc34-11ec-98f3-0000007cfe80</p>\n",
       "        <table style=\"width: 100%; text-align: left;\">\n",
       "\n",
       "        <tr>\n",
       "        \n",
       "            <td style=\"text-align: left;\"><strong>Connection method:</strong> Cluster object</td>\n",
       "            <td style=\"text-align: left;\"><strong>Cluster type:</strong> distributed.LocalCluster</td>\n",
       "        \n",
       "        </tr>\n",
       "\n",
       "        \n",
       "            <tr>\n",
       "                <td style=\"text-align: left;\">\n",
       "                    <strong>Dashboard: </strong> <a href=\"/proxy/45113/status\" target=\"_blank\">/proxy/45113/status</a>\n",
       "                </td>\n",
       "                <td style=\"text-align: left;\"></td>\n",
       "            </tr>\n",
       "        \n",
       "\n",
       "        </table>\n",
       "\n",
       "        \n",
       "            <details>\n",
       "            <summary style=\"margin-bottom: 20px;\"><h3 style=\"display: inline;\">Cluster Info</h3></summary>\n",
       "            <div class=\"jp-RenderedHTMLCommon jp-RenderedHTML jp-mod-trusted jp-OutputArea-output\">\n",
       "    <div style=\"width: 24px; height: 24px; background-color: #e1e1e1; border: 3px solid #9D9D9D; border-radius: 5px; position: absolute;\">\n",
       "    </div>\n",
       "    <div style=\"margin-left: 48px;\">\n",
       "        <h3 style=\"margin-bottom: 0px; margin-top: 0px;\">LocalCluster</h3>\n",
       "        <p style=\"color: #9D9D9D; margin-bottom: 0px;\">29ece2af</p>\n",
       "        <table style=\"width: 100%; text-align: left;\">\n",
       "            <tr>\n",
       "                <td style=\"text-align: left;\">\n",
       "                    <strong>Dashboard:</strong> <a href=\"/proxy/45113/status\" target=\"_blank\">/proxy/45113/status</a>\n",
       "                </td>\n",
       "                <td style=\"text-align: left;\">\n",
       "                    <strong>Workers:</strong> 6\n",
       "                </td>\n",
       "            </tr>\n",
       "            <tr>\n",
       "                <td style=\"text-align: left;\">\n",
       "                    <strong>Total threads:</strong> 24\n",
       "                </td>\n",
       "                <td style=\"text-align: left;\">\n",
       "                    <strong>Total memory:</strong> 96.00 GiB\n",
       "                </td>\n",
       "            </tr>\n",
       "            \n",
       "            <tr>\n",
       "    <td style=\"text-align: left;\"><strong>Status:</strong> running</td>\n",
       "    <td style=\"text-align: left;\"><strong>Using processes:</strong> True</td>\n",
       "</tr>\n",
       "\n",
       "            \n",
       "        </table>\n",
       "\n",
       "        <details>\n",
       "            <summary style=\"margin-bottom: 20px;\">\n",
       "                <h3 style=\"display: inline;\">Scheduler Info</h3>\n",
       "            </summary>\n",
       "\n",
       "            <div style=\"\">\n",
       "    <div>\n",
       "        <div style=\"width: 24px; height: 24px; background-color: #FFF7E5; border: 3px solid #FF6132; border-radius: 5px; position: absolute;\"> </div>\n",
       "        <div style=\"margin-left: 48px;\">\n",
       "            <h3 style=\"margin-bottom: 0px;\">Scheduler</h3>\n",
       "            <p style=\"color: #9D9D9D; margin-bottom: 0px;\">Scheduler-3518e828-942a-4526-ac93-4e80e889a476</p>\n",
       "            <table style=\"width: 100%; text-align: left;\">\n",
       "                <tr>\n",
       "                    <td style=\"text-align: left;\">\n",
       "                        <strong>Comm:</strong> tcp://127.0.0.1:38435\n",
       "                    </td>\n",
       "                    <td style=\"text-align: left;\">\n",
       "                        <strong>Workers:</strong> 6\n",
       "                    </td>\n",
       "                </tr>\n",
       "                <tr>\n",
       "                    <td style=\"text-align: left;\">\n",
       "                        <strong>Dashboard:</strong> <a href=\"/proxy/45113/status\" target=\"_blank\">/proxy/45113/status</a>\n",
       "                    </td>\n",
       "                    <td style=\"text-align: left;\">\n",
       "                        <strong>Total threads:</strong> 24\n",
       "                    </td>\n",
       "                </tr>\n",
       "                <tr>\n",
       "                    <td style=\"text-align: left;\">\n",
       "                        <strong>Started:</strong> Just now\n",
       "                    </td>\n",
       "                    <td style=\"text-align: left;\">\n",
       "                        <strong>Total memory:</strong> 96.00 GiB\n",
       "                    </td>\n",
       "                </tr>\n",
       "            </table>\n",
       "        </div>\n",
       "    </div>\n",
       "\n",
       "    <details style=\"margin-left: 48px;\">\n",
       "        <summary style=\"margin-bottom: 20px;\">\n",
       "            <h3 style=\"display: inline;\">Workers</h3>\n",
       "        </summary>\n",
       "\n",
       "        \n",
       "        <div style=\"margin-bottom: 20px;\">\n",
       "            <div style=\"width: 24px; height: 24px; background-color: #DBF5FF; border: 3px solid #4CC9FF; border-radius: 5px; position: absolute;\"> </div>\n",
       "            <div style=\"margin-left: 48px;\">\n",
       "            <details>\n",
       "                <summary>\n",
       "                    <h4 style=\"margin-bottom: 0px; display: inline;\">Worker: 0</h4>\n",
       "                </summary>\n",
       "                <table style=\"width: 100%; text-align: left;\">\n",
       "                    <tr>\n",
       "                        <td style=\"text-align: left;\">\n",
       "                            <strong>Comm: </strong> tcp://127.0.0.1:42215\n",
       "                        </td>\n",
       "                        <td style=\"text-align: left;\">\n",
       "                            <strong>Total threads: </strong> 4\n",
       "                        </td>\n",
       "                    </tr>\n",
       "                    <tr>\n",
       "                        <td style=\"text-align: left;\">\n",
       "                            <strong>Dashboard: </strong> <a href=\"/proxy/45259/status\" target=\"_blank\">/proxy/45259/status</a>\n",
       "                        </td>\n",
       "                        <td style=\"text-align: left;\">\n",
       "                            <strong>Memory: </strong> 16.00 GiB\n",
       "                        </td>\n",
       "                    </tr>\n",
       "                    <tr>\n",
       "                        <td style=\"text-align: left;\">\n",
       "                            <strong>Nanny: </strong> tcp://127.0.0.1:37085\n",
       "                        </td>\n",
       "                        <td style=\"text-align: left;\"></td>\n",
       "                    </tr>\n",
       "                    <tr>\n",
       "                        <td colspan=\"2\" style=\"text-align: left;\">\n",
       "                            <strong>Local directory: </strong> /g/data/v45/jm5970/scripts_papers/CEKE_climatology_paper/figures/dask-worker-space/worker-ipucpr9t\n",
       "                        </td>\n",
       "                    </tr>\n",
       "\n",
       "                    \n",
       "\n",
       "                    \n",
       "\n",
       "                </table>\n",
       "            </details>\n",
       "            </div>\n",
       "        </div>\n",
       "        \n",
       "        <div style=\"margin-bottom: 20px;\">\n",
       "            <div style=\"width: 24px; height: 24px; background-color: #DBF5FF; border: 3px solid #4CC9FF; border-radius: 5px; position: absolute;\"> </div>\n",
       "            <div style=\"margin-left: 48px;\">\n",
       "            <details>\n",
       "                <summary>\n",
       "                    <h4 style=\"margin-bottom: 0px; display: inline;\">Worker: 1</h4>\n",
       "                </summary>\n",
       "                <table style=\"width: 100%; text-align: left;\">\n",
       "                    <tr>\n",
       "                        <td style=\"text-align: left;\">\n",
       "                            <strong>Comm: </strong> tcp://127.0.0.1:43981\n",
       "                        </td>\n",
       "                        <td style=\"text-align: left;\">\n",
       "                            <strong>Total threads: </strong> 4\n",
       "                        </td>\n",
       "                    </tr>\n",
       "                    <tr>\n",
       "                        <td style=\"text-align: left;\">\n",
       "                            <strong>Dashboard: </strong> <a href=\"/proxy/34463/status\" target=\"_blank\">/proxy/34463/status</a>\n",
       "                        </td>\n",
       "                        <td style=\"text-align: left;\">\n",
       "                            <strong>Memory: </strong> 16.00 GiB\n",
       "                        </td>\n",
       "                    </tr>\n",
       "                    <tr>\n",
       "                        <td style=\"text-align: left;\">\n",
       "                            <strong>Nanny: </strong> tcp://127.0.0.1:39931\n",
       "                        </td>\n",
       "                        <td style=\"text-align: left;\"></td>\n",
       "                    </tr>\n",
       "                    <tr>\n",
       "                        <td colspan=\"2\" style=\"text-align: left;\">\n",
       "                            <strong>Local directory: </strong> /g/data/v45/jm5970/scripts_papers/CEKE_climatology_paper/figures/dask-worker-space/worker-71px5hfo\n",
       "                        </td>\n",
       "                    </tr>\n",
       "\n",
       "                    \n",
       "\n",
       "                    \n",
       "\n",
       "                </table>\n",
       "            </details>\n",
       "            </div>\n",
       "        </div>\n",
       "        \n",
       "        <div style=\"margin-bottom: 20px;\">\n",
       "            <div style=\"width: 24px; height: 24px; background-color: #DBF5FF; border: 3px solid #4CC9FF; border-radius: 5px; position: absolute;\"> </div>\n",
       "            <div style=\"margin-left: 48px;\">\n",
       "            <details>\n",
       "                <summary>\n",
       "                    <h4 style=\"margin-bottom: 0px; display: inline;\">Worker: 2</h4>\n",
       "                </summary>\n",
       "                <table style=\"width: 100%; text-align: left;\">\n",
       "                    <tr>\n",
       "                        <td style=\"text-align: left;\">\n",
       "                            <strong>Comm: </strong> tcp://127.0.0.1:44471\n",
       "                        </td>\n",
       "                        <td style=\"text-align: left;\">\n",
       "                            <strong>Total threads: </strong> 4\n",
       "                        </td>\n",
       "                    </tr>\n",
       "                    <tr>\n",
       "                        <td style=\"text-align: left;\">\n",
       "                            <strong>Dashboard: </strong> <a href=\"/proxy/38177/status\" target=\"_blank\">/proxy/38177/status</a>\n",
       "                        </td>\n",
       "                        <td style=\"text-align: left;\">\n",
       "                            <strong>Memory: </strong> 16.00 GiB\n",
       "                        </td>\n",
       "                    </tr>\n",
       "                    <tr>\n",
       "                        <td style=\"text-align: left;\">\n",
       "                            <strong>Nanny: </strong> tcp://127.0.0.1:41405\n",
       "                        </td>\n",
       "                        <td style=\"text-align: left;\"></td>\n",
       "                    </tr>\n",
       "                    <tr>\n",
       "                        <td colspan=\"2\" style=\"text-align: left;\">\n",
       "                            <strong>Local directory: </strong> /g/data/v45/jm5970/scripts_papers/CEKE_climatology_paper/figures/dask-worker-space/worker-kkd736m0\n",
       "                        </td>\n",
       "                    </tr>\n",
       "\n",
       "                    \n",
       "\n",
       "                    \n",
       "\n",
       "                </table>\n",
       "            </details>\n",
       "            </div>\n",
       "        </div>\n",
       "        \n",
       "        <div style=\"margin-bottom: 20px;\">\n",
       "            <div style=\"width: 24px; height: 24px; background-color: #DBF5FF; border: 3px solid #4CC9FF; border-radius: 5px; position: absolute;\"> </div>\n",
       "            <div style=\"margin-left: 48px;\">\n",
       "            <details>\n",
       "                <summary>\n",
       "                    <h4 style=\"margin-bottom: 0px; display: inline;\">Worker: 3</h4>\n",
       "                </summary>\n",
       "                <table style=\"width: 100%; text-align: left;\">\n",
       "                    <tr>\n",
       "                        <td style=\"text-align: left;\">\n",
       "                            <strong>Comm: </strong> tcp://127.0.0.1:38437\n",
       "                        </td>\n",
       "                        <td style=\"text-align: left;\">\n",
       "                            <strong>Total threads: </strong> 4\n",
       "                        </td>\n",
       "                    </tr>\n",
       "                    <tr>\n",
       "                        <td style=\"text-align: left;\">\n",
       "                            <strong>Dashboard: </strong> <a href=\"/proxy/41791/status\" target=\"_blank\">/proxy/41791/status</a>\n",
       "                        </td>\n",
       "                        <td style=\"text-align: left;\">\n",
       "                            <strong>Memory: </strong> 16.00 GiB\n",
       "                        </td>\n",
       "                    </tr>\n",
       "                    <tr>\n",
       "                        <td style=\"text-align: left;\">\n",
       "                            <strong>Nanny: </strong> tcp://127.0.0.1:40955\n",
       "                        </td>\n",
       "                        <td style=\"text-align: left;\"></td>\n",
       "                    </tr>\n",
       "                    <tr>\n",
       "                        <td colspan=\"2\" style=\"text-align: left;\">\n",
       "                            <strong>Local directory: </strong> /g/data/v45/jm5970/scripts_papers/CEKE_climatology_paper/figures/dask-worker-space/worker-zswdleui\n",
       "                        </td>\n",
       "                    </tr>\n",
       "\n",
       "                    \n",
       "\n",
       "                    \n",
       "\n",
       "                </table>\n",
       "            </details>\n",
       "            </div>\n",
       "        </div>\n",
       "        \n",
       "        <div style=\"margin-bottom: 20px;\">\n",
       "            <div style=\"width: 24px; height: 24px; background-color: #DBF5FF; border: 3px solid #4CC9FF; border-radius: 5px; position: absolute;\"> </div>\n",
       "            <div style=\"margin-left: 48px;\">\n",
       "            <details>\n",
       "                <summary>\n",
       "                    <h4 style=\"margin-bottom: 0px; display: inline;\">Worker: 4</h4>\n",
       "                </summary>\n",
       "                <table style=\"width: 100%; text-align: left;\">\n",
       "                    <tr>\n",
       "                        <td style=\"text-align: left;\">\n",
       "                            <strong>Comm: </strong> tcp://127.0.0.1:34461\n",
       "                        </td>\n",
       "                        <td style=\"text-align: left;\">\n",
       "                            <strong>Total threads: </strong> 4\n",
       "                        </td>\n",
       "                    </tr>\n",
       "                    <tr>\n",
       "                        <td style=\"text-align: left;\">\n",
       "                            <strong>Dashboard: </strong> <a href=\"/proxy/34879/status\" target=\"_blank\">/proxy/34879/status</a>\n",
       "                        </td>\n",
       "                        <td style=\"text-align: left;\">\n",
       "                            <strong>Memory: </strong> 16.00 GiB\n",
       "                        </td>\n",
       "                    </tr>\n",
       "                    <tr>\n",
       "                        <td style=\"text-align: left;\">\n",
       "                            <strong>Nanny: </strong> tcp://127.0.0.1:46291\n",
       "                        </td>\n",
       "                        <td style=\"text-align: left;\"></td>\n",
       "                    </tr>\n",
       "                    <tr>\n",
       "                        <td colspan=\"2\" style=\"text-align: left;\">\n",
       "                            <strong>Local directory: </strong> /g/data/v45/jm5970/scripts_papers/CEKE_climatology_paper/figures/dask-worker-space/worker-79jzhsu6\n",
       "                        </td>\n",
       "                    </tr>\n",
       "\n",
       "                    \n",
       "\n",
       "                    \n",
       "\n",
       "                </table>\n",
       "            </details>\n",
       "            </div>\n",
       "        </div>\n",
       "        \n",
       "        <div style=\"margin-bottom: 20px;\">\n",
       "            <div style=\"width: 24px; height: 24px; background-color: #DBF5FF; border: 3px solid #4CC9FF; border-radius: 5px; position: absolute;\"> </div>\n",
       "            <div style=\"margin-left: 48px;\">\n",
       "            <details>\n",
       "                <summary>\n",
       "                    <h4 style=\"margin-bottom: 0px; display: inline;\">Worker: 5</h4>\n",
       "                </summary>\n",
       "                <table style=\"width: 100%; text-align: left;\">\n",
       "                    <tr>\n",
       "                        <td style=\"text-align: left;\">\n",
       "                            <strong>Comm: </strong> tcp://127.0.0.1:33179\n",
       "                        </td>\n",
       "                        <td style=\"text-align: left;\">\n",
       "                            <strong>Total threads: </strong> 4\n",
       "                        </td>\n",
       "                    </tr>\n",
       "                    <tr>\n",
       "                        <td style=\"text-align: left;\">\n",
       "                            <strong>Dashboard: </strong> <a href=\"/proxy/42811/status\" target=\"_blank\">/proxy/42811/status</a>\n",
       "                        </td>\n",
       "                        <td style=\"text-align: left;\">\n",
       "                            <strong>Memory: </strong> 16.00 GiB\n",
       "                        </td>\n",
       "                    </tr>\n",
       "                    <tr>\n",
       "                        <td style=\"text-align: left;\">\n",
       "                            <strong>Nanny: </strong> tcp://127.0.0.1:41627\n",
       "                        </td>\n",
       "                        <td style=\"text-align: left;\"></td>\n",
       "                    </tr>\n",
       "                    <tr>\n",
       "                        <td colspan=\"2\" style=\"text-align: left;\">\n",
       "                            <strong>Local directory: </strong> /g/data/v45/jm5970/scripts_papers/CEKE_climatology_paper/figures/dask-worker-space/worker-hydp7ooo\n",
       "                        </td>\n",
       "                    </tr>\n",
       "\n",
       "                    \n",
       "\n",
       "                    \n",
       "\n",
       "                </table>\n",
       "            </details>\n",
       "            </div>\n",
       "        </div>\n",
       "        \n",
       "\n",
       "    </details>\n",
       "</div>\n",
       "\n",
       "        </details>\n",
       "    </div>\n",
       "</div>\n",
       "            </details>\n",
       "        \n",
       "\n",
       "    </div>\n",
       "</div>"
      ],
      "text/plain": [
       "<Client: 'tcp://127.0.0.1:38435' processes=6 threads=24, memory=96.00 GiB>"
      ]
     },
     "execution_count": 3,
     "metadata": {},
     "output_type": "execute_result"
    }
   ],
   "source": [
    "c=Client()\n",
    "c"
   ]
  },
  {
   "cell_type": "code",
   "execution_count": 4,
   "metadata": {},
   "outputs": [],
   "source": [
    "from matplotlib.axes import Axes\n",
    "from cartopy.mpl.geoaxes import GeoAxes\n",
    "GeoAxes._pcolormesh_patched = Axes.pcolormesh\n",
    "import matplotlib.pyplot as plt\n",
    "import cartopy.crs as ccrs\n",
    "import cartopy.feature as feature\n",
    "import matplotlib.ticker as mticker\n",
    "import cmocean as cm"
   ]
  },
  {
   "cell_type": "code",
   "execution_count": 5,
   "metadata": {},
   "outputs": [],
   "source": [
    "land_50m = feature.NaturalEarthFeature('physical', 'land', '50m',\n",
    "                                        edgecolor='black',\n",
    "                                        facecolor='#DFD1AF',\n",
    "                                        linewidth=0.2)"
   ]
  },
  {
   "cell_type": "code",
   "execution_count": 6,
   "metadata": {},
   "outputs": [],
   "source": [
    "import dask.dataframe as dd"
   ]
  },
  {
   "cell_type": "code",
   "execution_count": 7,
   "metadata": {},
   "outputs": [],
   "source": [
    "import matplotlib\n",
    "#matplotlib.rcParams[\"text.usetex\"] = True\n",
    "matplotlib.rcParams[\"text.latex.preamble\"] = r'\\usepackage{xfrac}'"
   ]
  },
  {
   "cell_type": "code",
   "execution_count": 8,
   "metadata": {},
   "outputs": [],
   "source": [
    "climatology_path = '/home/156/jm5970/hh5/climatology/'"
   ]
  },
  {
   "cell_type": "code",
   "execution_count": 9,
   "metadata": {},
   "outputs": [],
   "source": [
    "path='/g/data/v45/jm5970/trackeddy_output/AVISO+/post-processing/satellite_KE_*.nc'\n",
    "KE=xr.open_mfdataset(path,chunks={'latitude': 720//4, 'longitude': 1440//4, 'time': 10})"
   ]
  },
  {
   "cell_type": "code",
   "execution_count": 10,
   "metadata": {},
   "outputs": [],
   "source": [
    "path='/g/data/v45/jm5970/trackeddy_output/AVISO+/post-processing/satellite_EKE_field_*.nc'\n",
    "EKE=xr.open_mfdataset(path,chunks={'lat': 720//4, 'lon': 1440//4, 'time': 10})"
   ]
  },
  {
   "cell_type": "code",
   "execution_count": 11,
   "metadata": {},
   "outputs": [],
   "source": [
    "path='/g/data/v45/jm5970/trackeddy_output/AVISO+/post-processing/eddy/satellite_TEKE_eddy*.nc'\n",
    "TEKE=xr.open_mfdataset(path,chunks={'lat': 720//4, 'lon': 1440//4, 'time': 10})"
   ]
  },
  {
   "cell_type": "code",
   "execution_count": 12,
   "metadata": {},
   "outputs": [],
   "source": [
    "path='/g/data/v45/jm5970/trackeddy_output/AVISO+/post-processing/residual/satellite_TEKE_res_*.nc'\n",
    "TRKE=xr.open_mfdataset(path,chunks={'lat': 720//4, 'lon': 1440//4, 'time': 10})"
   ]
  },
  {
   "cell_type": "code",
   "execution_count": 13,
   "metadata": {},
   "outputs": [],
   "source": [
    "path='/g/data/v45/jm5970/trackeddy_output/AVISO+/post-processing/diff/satellite_TEKE_res_*.nc'\n",
    "TRKE_c=xr.open_mfdataset(path,chunks={'lat': 720//4, 'lon': 1440//4, 'time': 10})"
   ]
  },
  {
   "cell_type": "code",
   "execution_count": 14,
   "metadata": {},
   "outputs": [],
   "source": [
    "# gridded_depth = xr.open_dataset('./bathymetry_025deg.nc')"
   ]
  },
  {
   "cell_type": "code",
   "execution_count": 15,
   "metadata": {},
   "outputs": [],
   "source": [
    "eddy_climat = xr.open_mfdataset('/g/data/v45/jm5970/scripts_papers/paper_transient_climatology/netcdf_V2/eddy_stats_timeseries_*.nc')"
   ]
  },
  {
   "cell_type": "code",
   "execution_count": 16,
   "metadata": {},
   "outputs": [],
   "source": [
    "lat_radians=np.radians(eddy_climat.lat)\n",
    "lon_radians=np.radians(eddy_climat.lon)\n",
    "earth_radius = 6371e3\n",
    "\n",
    "grad_lon=lon_radians.copy()\n",
    "grad_lon.data=np.gradient(lon_radians)\n",
    "\n",
    "dx=grad_lon*earth_radius*np.cos(lat_radians)\n",
    "dy=np.gradient(lat_radians)*earth_radius\n",
    "\n",
    "area = (dx*dy).where(abs(dx.lat)>5)\n",
    "area = area.where(eddy_climat.eddy_n>0)"
   ]
  },
  {
   "cell_type": "code",
   "execution_count": 17,
   "metadata": {},
   "outputs": [],
   "source": [
    "eddy_n_nh = eddy_climat.eddy_n.sel(lat=slice(10,60)).sum(('lat','lon')).compute()\n",
    "eddy_n_sh = eddy_climat.eddy_n.sel(lat=slice(-60,-10)).sum(('lat','lon')).compute()"
   ]
  },
  {
   "cell_type": "code",
   "execution_count": 18,
   "metadata": {},
   "outputs": [],
   "source": [
    "abs_eddy_amp_dataset = eddy_climat.eddy_a_p.where(np.isfinite(eddy_climat.eddy_a_p),0)"
   ]
  },
  {
   "cell_type": "code",
   "execution_count": 19,
   "metadata": {},
   "outputs": [],
   "source": [
    "abs_eddy_amp = 1/2 * (eddy_climat.eddy_a_p.where(np.isfinite(eddy_climat.eddy_a_p),0) - eddy_climat.eddy_a_n.where(np.isfinite(eddy_climat.eddy_a_n),0))"
   ]
  },
  {
   "cell_type": "code",
   "execution_count": 20,
   "metadata": {},
   "outputs": [],
   "source": [
    "# abs_eddy_amp.isel(time=0).plot(vmin=-0.001,vmax=0.001)"
   ]
  },
  {
   "cell_type": "code",
   "execution_count": 21,
   "metadata": {},
   "outputs": [],
   "source": [
    "abs_eddy_a_nh = ((abs_eddy_amp*100*area).sel(lat=slice(10,60)).sum(('lat','lon'))/area.sel(lat=slice(10,60)).sum(('lat','lon'))) .compute()\n",
    "abs_eddy_a_sh = ((abs_eddy_amp*100*area).sel(lat=slice(-60,-10)).sum(('lat','lon'))/area.sel(lat=slice(-60,-10)).sum(('lat','lon'))).compute()"
   ]
  },
  {
   "cell_type": "code",
   "execution_count": 22,
   "metadata": {},
   "outputs": [],
   "source": [
    "eddy_a_nh = ((abs(eddy_climat.eddy_a)*100*area).sel(lat=slice(10,60)).sum(('lat','lon'))/area.sel(lat=slice(10,60)).sum(('lat','lon'))).compute()\n",
    "eddy_a_sh = ((abs(eddy_climat.eddy_a)*100*area).sel(lat=slice(-60,-10)).sum(('lat','lon'))/area.sel(lat=slice(-60,-10)).sum(('lat','lon'))).compute()"
   ]
  },
  {
   "cell_type": "code",
   "execution_count": 23,
   "metadata": {},
   "outputs": [],
   "source": [
    "eddy_a_nh_pos = ((eddy_climat.eddy_a_p*100*area).sel(lat=slice(10,60)).sum(('lat','lon'))/area.sel(lat=slice(10,60)).sum()).compute()\n",
    "eddy_a_sh_pos = ((eddy_climat.eddy_a_p*100*area).sel(lat=slice(-60,-10)).sum(('lat','lon'))/area.sel(lat=slice(-60,-10)).sum()).compute()"
   ]
  },
  {
   "cell_type": "code",
   "execution_count": 24,
   "metadata": {},
   "outputs": [],
   "source": [
    "eddy_a_nh_neg = ((eddy_climat.eddy_a_n*100*area).sel(lat=slice(10,60)).sum(('lat','lon'))/area.sel(lat=slice(10,60)).sum()).compute()\n",
    "eddy_a_sh_neg = ((eddy_climat.eddy_a_n*100*area).sel(lat=slice(-60,-10)).sum(('lat','lon'))/area.sel(lat=slice(-60,-10)).sum()).compute()"
   ]
  },
  {
   "cell_type": "code",
   "execution_count": 25,
   "metadata": {},
   "outputs": [],
   "source": [
    "cbar_text=['Feb','Mar','Apr','May','Jun','Jul','Aug','Sept','Oct','Nov','Dec','Jan']"
   ]
  },
  {
   "cell_type": "code",
   "execution_count": 26,
   "metadata": {},
   "outputs": [],
   "source": [
    "from matplotlib.collections import LineCollection\n",
    "import matplotlib as mpl"
   ]
  },
  {
   "cell_type": "code",
   "execution_count": 27,
   "metadata": {},
   "outputs": [],
   "source": [
    "year=[int(t) for t in eddy_a_nh['time'].dt.strftime('%Y').values]"
   ]
  },
  {
   "cell_type": "code",
   "execution_count": 28,
   "metadata": {},
   "outputs": [],
   "source": [
    "path='/g/data/rr7/JRA55/6hr/atmos/'"
   ]
  },
  {
   "cell_type": "code",
   "execution_count": 29,
   "metadata": {},
   "outputs": [],
   "source": [
    "u_10_p='uas/v1/uas_*.nc'\n",
    "v_10_p='vas/v1/vas_*.nc'"
   ]
  },
  {
   "cell_type": "code",
   "execution_count": 30,
   "metadata": {},
   "outputs": [],
   "source": [
    "u_10=xr.open_mfdataset(path+u_10_p,combine='nested',concat_dim='time',chunks={'time':100,'lon':320,'lat':160},parallel=True)\n",
    "v_10=xr.open_mfdataset(path+v_10_p,combine='nested',concat_dim='time',chunks={'time':100,'lon':320,'lat':160},parallel=True)"
   ]
  },
  {
   "cell_type": "code",
   "execution_count": 31,
   "metadata": {},
   "outputs": [],
   "source": [
    "wind_mag = np.sqrt(u_10.uas**2 + v_10.vas**2)"
   ]
  },
  {
   "cell_type": "code",
   "execution_count": 32,
   "metadata": {},
   "outputs": [],
   "source": [
    "wind_mag = wind_mag.chunk({'time':100})"
   ]
  },
  {
   "cell_type": "code",
   "execution_count": 33,
   "metadata": {},
   "outputs": [
    {
     "name": "stderr",
     "output_type": "stream",
     "text": [
      "/g/data/hh5/public/apps/miniconda3/envs/analysis3-22.01/lib/python3.9/site-packages/dask/core.py:119: RuntimeWarning: overflow encountered in square\n",
      "  return func(*(_execute_task(a, cache) for a in args))\n"
     ]
    }
   ],
   "source": [
    "mean_wind_mag_year_nh = wind_mag.sel(lat=slice(10,60)).mean(('lat','lon')).rolling(time=30, center=True).mean().groupby('time.dayofyear').mean('time').compute()"
   ]
  },
  {
   "cell_type": "code",
   "execution_count": 34,
   "metadata": {},
   "outputs": [
    {
     "name": "stderr",
     "output_type": "stream",
     "text": [
      "/g/data/hh5/public/apps/miniconda3/envs/analysis3-22.01/lib/python3.9/site-packages/dask/core.py:119: RuntimeWarning: overflow encountered in square\n",
      "  return func(*(_execute_task(a, cache) for a in args))\n"
     ]
    }
   ],
   "source": [
    "mean_wind_mag_year_sh = wind_mag.sel(lat=slice(-60,-10)).mean(('lat','lon')).rolling(time=30, center=True).mean().groupby('time.dayofyear').mean('time').compute()"
   ]
  },
  {
   "cell_type": "code",
   "execution_count": 35,
   "metadata": {},
   "outputs": [],
   "source": [
    "from matplotlib import colors\n",
    "\n",
    "def truncate_colormap(cmap, minval=0.0, maxval=1.0, n=100):\n",
    "    \"\"\"\n",
    "    Truncate colormap.\n",
    "    \"\"\"\n",
    "    new_cmap = colors.LinearSegmentedColormap.from_list(\n",
    "        'trunc({n},{a:.2f},{b:.2f})'.format(n=cmap.name, a=minval, b=maxval),\n",
    "        cmap(np.linspace(minval, maxval, n)))\n",
    "    return new_cmap\n"
   ]
  },
  {
   "cell_type": "code",
   "execution_count": 36,
   "metadata": {},
   "outputs": [],
   "source": [
    "ice_colormap = plt.get_cmap(truncate_colormap(cm.cm.balance,0.05,0.95), 12)"
   ]
  },
  {
   "cell_type": "code",
   "execution_count": 37,
   "metadata": {},
   "outputs": [],
   "source": [
    "import matplotlib.ticker as mtick"
   ]
  },
  {
   "cell_type": "code",
   "execution_count": 38,
   "metadata": {},
   "outputs": [
    {
     "name": "stderr",
     "output_type": "stream",
     "text": [
      "/g/data/hh5/public/apps/miniconda3/envs/analysis3-22.01/lib/python3.9/site-packages/dask/core.py:119: RuntimeWarning: overflow encountered in square\n",
      "  return func(*(_execute_task(a, cache) for a in args))\n"
     ]
    }
   ],
   "source": [
    "mean_wind_mag_year_nh_month = wind_mag.sel(lat=slice(10,60)).mean(('lat','lon')).groupby('time.month').mean('time').compute()\n",
    "mean_wind_mag_year_sh_month = wind_mag.sel(lat=slice(-60,-10)).mean(('lat','lon')).groupby('time.month').mean('time').compute()"
   ]
  },
  {
   "cell_type": "code",
   "execution_count": 39,
   "metadata": {},
   "outputs": [],
   "source": [
    "c_eddy_climat = xr.open_mfdataset('/g/data/v45/jm5970/scripts_papers/paper_transient_climatology/netcdf/chelton_eddy_stats_timeseries_*.nc')"
   ]
  },
  {
   "cell_type": "code",
   "execution_count": 40,
   "metadata": {},
   "outputs": [],
   "source": [
    "c_eddy_n_nh = c_eddy_climat.eddy_n.sel(lat=slice(10,60)).sum(('lon','lat')).compute()\n",
    "c_eddy_n_sh = c_eddy_climat.eddy_n.sel(lat=slice(-60,-10)).sum(('lon','lat')).compute()"
   ]
  },
  {
   "cell_type": "code",
   "execution_count": 41,
   "metadata": {},
   "outputs": [],
   "source": [
    "c_eddy_a_nh = c_eddy_climat.eddy_a.sel(lat=slice(10,60)).mean(('lon','lat')).compute()\n",
    "c_eddy_a_sh = c_eddy_climat.eddy_a.sel(lat=slice(-60,-10)).mean(('lon','lat')).compute()"
   ]
  },
  {
   "cell_type": "code",
   "execution_count": 42,
   "metadata": {},
   "outputs": [
    {
     "data": {
      "text/plain": [
       "[<matplotlib.lines.Line2D at 0x1529ba2c1460>]"
      ]
     },
     "execution_count": 42,
     "metadata": {},
     "output_type": "execute_result"
    },
    {
     "data": {
      "image/png": "[encoded data removed]",
      "text/plain": [
       "<Figure size 432x288 with 1 Axes>"
      ]
     },
     "metadata": {
      "needs_background": "light"
     },
     "output_type": "display_data"
    }
   ],
   "source": [
    "c_eddy_n_sh.where(c_eddy_n_sh<2000).plot()"
   ]
  },
  {
   "cell_type": "code",
   "execution_count": 43,
   "metadata": {},
   "outputs": [],
   "source": [
    "c_eddy_n_nh = c_eddy_n_nh.where(c_eddy_n_nh<1200).sel(time=slice('1994','2016'))\n",
    "c_eddy_n_sh = c_eddy_n_sh.where(c_eddy_n_sh<2000).sel(time=slice('1994','2016'))\n",
    "c_eddy_a_nh = c_eddy_a_nh.where(c_eddy_n_nh<1200).sel(time=slice('1994','2016'))\n",
    "c_eddy_a_sh = c_eddy_a_sh.where(c_eddy_n_sh<2000).sel(time=slice('1994','2016'))"
   ]
  },
  {
   "cell_type": "code",
   "execution_count": 44,
   "metadata": {},
   "outputs": [],
   "source": [
    "matplotlib.rcParams.update({'font.size': 9})\n",
    "fsize=9"
   ]
  },
  {
   "cell_type": "code",
   "execution_count": 45,
   "metadata": {},
   "outputs": [],
   "source": [
    "import matplotlib.gridspec as gridspec"
   ]
  },
  {
   "cell_type": "code",
   "execution_count": 46,
   "metadata": {},
   "outputs": [
    {
     "data": {
      "image/png": "[encoded data removed]",
      "text/plain": [
       "<Figure size 504x720 with 14 Axes>"
      ]
     },
     "metadata": {
      "needs_background": "light"
     },
     "output_type": "display_data"
    }
   ],
   "source": [
    "wind_color = 'indigo'\n",
    "fig=plt.figure(figsize=(7,10))\n",
    "\n",
    "#################################################################\n",
    "grid = plt.GridSpec(2, 2, wspace=0.2, hspace=0.4)\n",
    "#################################################################\n",
    "\n",
    "grid_top_left = gridspec.GridSpecFromSubplotSpec(3, 1, subplot_spec=grid[0,0], hspace=0.3)\n",
    "grid_top_right = gridspec.GridSpecFromSubplotSpec(3, 1, subplot_spec=grid[0,1], hspace=0.3)\n",
    "grid_bottom_left = gridspec.GridSpecFromSubplotSpec(3, 1, subplot_spec=grid[1,0], hspace=0.3)\n",
    "grid_bottom_right = gridspec.GridSpecFromSubplotSpec(3, 1, subplot_spec=grid[1,1], hspace=0.3)\n",
    "\n",
    "axs1 = fig.add_subplot(grid_top_left[0:2])\n",
    "\n",
    "data_frame = (eddy_n_nh.rolling(time=30, center=True).mean()*10000).to_dataframe()\n",
    "data_frame['year']=data_frame.index.year\n",
    "data_frame['day']=data_frame.index.dayofyear\n",
    "array = data_frame.set_index(['year','day']).to_xarray()\n",
    "normalized_array = array/array.max()\n",
    "n_cbar = normalized_array.eddy_n.plot.contourf(\n",
    "    ax=axs1,\n",
    "    cmap=cm.cm.amp,\n",
    "    add_colorbar=False,\n",
    "    vmin=0.8,\n",
    "    vmax=1,\n",
    "    levels=9\n",
    ")\n",
    "wind_mag_plot = mean_wind_mag_year_nh\n",
    "max_day = wind_mag_plot.argmax()\n",
    "axs1.plot([max_day,max_day],[1993,2019],':',color=wind_color,linewidth=3)\n",
    "axs1.set_ylim(1993,2020)\n",
    "axs1.set_xticks(np.arange(45,365,2*45))\n",
    "axs1.grid(linewidth=0.5)\n",
    "axs1.set_xticklabels([])\n",
    "axs1.set_xlabel('')\n",
    "\n",
    "axs1.set_title('$\\mathrm{cEddy}_{n}$ (NH)',y=1,fontsize=12)\n",
    "# axs1.set_xticklabels(cbar_text[::-2], minor=False, rotation=45);\n",
    "################################################################\n",
    "axs2 = fig.add_subplot(grid_top_right[0:2])\n",
    "plt.setp(axs2.get_yticklabels(), visible=False)\n",
    "\n",
    "data_frame = (abs_eddy_a_nh.rolling(time=30, center=True).mean()*10000).to_dataframe(name='eddy_a')\n",
    "data_frame['year']=data_frame.index.year\n",
    "data_frame['day']=data_frame.index.dayofyear\n",
    "array = data_frame.set_index(['year','day']).to_xarray()\n",
    "normalized_array = array/array.max()\n",
    "normalized_array.eddy_a.plot.contourf(\n",
    "    ax=axs2,\n",
    "    cmap=cm.cm.tempo,\n",
    "    add_colorbar=False,\n",
    "    vmin=0.8,\n",
    "    vmax=1,\n",
    "    levels=9\n",
    ")\n",
    "\n",
    "wind_mag_plot = mean_wind_mag_year_nh\n",
    "max_day = wind_mag_plot.argmax()\n",
    "axs2.plot([max_day,max_day],[1993,2019],':',color=wind_color,linewidth=3)\n",
    "axs2.set_ylim(1993,2020)\n",
    "axs2.set_xticks(np.arange(45,365,2*45))\n",
    "axs2.grid(linewidth=0.5)\n",
    "axs2.set_xticklabels([])\n",
    "axs2.set_xlabel('')\n",
    "axs2.set_ylabel('')\n",
    "\n",
    "axs2.set_title(r'$\\left<\\mathrm{cEddy}_{|amp|}\\right>_{NH}$',y=1,fontsize=12)\n",
    "# axs2.set_xticklabels(cbar_text[::-2], minor=False, rotation=45);\n",
    "# #################################################################\n",
    "axs3 = fig.add_subplot(grid_bottom_left[0:2])\n",
    "\n",
    "data_frame = (eddy_n_sh.rolling(time=30, center=True).mean()*10000).to_dataframe()\n",
    "data_frame['year']=data_frame.index.year\n",
    "data_frame['day']=data_frame.index.dayofyear\n",
    "array = data_frame.set_index(['year','day']).to_xarray()\n",
    "normalized_array = array/array.max()\n",
    "normalized_array.eddy_n.plot.contourf(\n",
    "    ax=axs3,\n",
    "    cmap=cm.cm.amp,\n",
    "    add_colorbar=False,\n",
    "    vmin=0.8,\n",
    "    vmax=1,\n",
    "    levels=9\n",
    ")\n",
    "\n",
    "wind_mag_plot = mean_wind_mag_year_sh\n",
    "max_day = wind_mag_plot.argmax()\n",
    "axs3.plot([max_day,max_day],[1993,2019],':',color=wind_color,linewidth=3)\n",
    "axs3.set_ylim(1993,2020)\n",
    "axs3.set_xticks(np.arange(45,365,2*45))\n",
    "axs3.grid(linewidth=0.5)\n",
    "axs3.set_xticklabels([])\n",
    "axs3.set_xlabel('')\n",
    "\n",
    "axs3.set_title('$\\mathrm{cEddy}_{n}$ (SH)',y=1,fontsize=12)\n",
    "# axs3.set_xticklabels(cbar_text[::-2], minor=False, rotation=45);\n",
    "# #################################################################\n",
    "axs4 = fig.add_subplot(grid_bottom_right[0:2])\n",
    "plt.setp(axs4.get_yticklabels(), visible=False)\n",
    "                       \n",
    "data_frame = (abs_eddy_a_sh.rolling(time=30, center=True).mean()*10000).to_dataframe(name='eddy_a')\n",
    "data_frame['year']=data_frame.index.year\n",
    "data_frame['day']=data_frame.index.dayofyear\n",
    "array = data_frame.set_index(['year','day']).to_xarray()\n",
    "normalized_array = array/array.max()\n",
    "amp_cbar = normalized_array.eddy_a.plot.contourf(\n",
    "    ax=axs4,\n",
    "    cmap=cm.cm.tempo,\n",
    "    add_colorbar=False,\n",
    "    vmin=0.8,\n",
    "    vmax=1,\n",
    "    levels=9\n",
    ")\n",
    "wind_mag_plot = mean_wind_mag_year_sh\n",
    "max_day = wind_mag_plot.argmax()\n",
    "axs4.plot([max_day,max_day],[1993,2019],':',color=wind_color,linewidth=3)\n",
    "axs4.set_ylim(1993,2020)\n",
    "axs4.set_xticks(np.arange(45,365,2*45))\n",
    "axs4.grid(linewidth=0.5)\n",
    "axs4.set_xticklabels([])\n",
    "axs4.set_xlabel('')\n",
    "axs4.set_ylabel('')\n",
    "\n",
    "axs4.set_title(r'$\\left<\\mathrm{cEddy}_{|amp|}\\right>_{SH}$',y=1,fontsize=12)\n",
    "# axs4.set_xticklabels(cbar_text[::-2], minor=False, rotation=45);\n",
    "# #################################################################\n",
    "\n",
    "cbar_ax = fig.add_axes([0.13, 0.515, 0.35, 0.02],label='cbar')\n",
    "cbar = fig.colorbar(n_cbar, cax=cbar_ax,orientation='horizontal')\n",
    "cbar.ax.tick_params(rotation=45)\n",
    "\n",
    "cbar_ax = fig.add_axes([0.55, 0.515, 0.35, 0.02],label='cbar')\n",
    "cbar = fig.colorbar(amp_cbar, cax=cbar_ax,orientation='horizontal')\n",
    "cbar.ax.tick_params(rotation=45)\n",
    "\n",
    "# ########################################################################\n",
    "# ############################### Seasonal ###############################\n",
    "# ########################################################################\n",
    "axs5 = fig.add_subplot(grid_top_left[2])\n",
    "eddy_n_climatology = eddy_n_nh.groupby('time.month').mean('time')\n",
    "\n",
    "anomaly_plot = eddy_n_climatology-eddy_n_climatology.mean()\n",
    "axs5.bar(eddy_n_climatology.month, (anomaly_plot).where(anomaly_plot>0),color='darkorange')\n",
    "axs5.bar(eddy_n_climatology.month, (anomaly_plot).where(anomaly_plot<0),color='steelblue')\n",
    "axs5.bar(eddy_n_climatology.month, (anomaly_plot).where(anomaly_plot==anomaly_plot.max()),color='magenta')\n",
    "\n",
    "# c_eddy_n_climatology = c_eddy_n_nh.groupby('time.month').mean('time')\n",
    "# anomaly_plot = c_eddy_n_climatology - c_eddy_n_climatology.mean()\n",
    "# axs5.bar(c_eddy_n_climatology.month, (anomaly_plot),color='none',edgecolor='black', hatch=\"/\")\n",
    "axs5.set_ylim(-76,76)\n",
    "axs5.set_yticks((-75,0,75))\n",
    "\n",
    "axs5_t = axs5.twinx()\n",
    "wind_mag_plot = mean_wind_mag_year_nh_month-mean_wind_mag_year_nh_month.mean()\n",
    "axs5_t.plot(wind_mag_plot.month, wind_mag_plot.values, linestyle=':',  color=wind_color)\n",
    "max_value = wind_mag_plot.where(wind_mag_plot==wind_mag_plot.max())\n",
    "axs5_t.plot(max_value.month, max_value.values, marker='*', color=wind_color, zorder=10, markersize=10)\n",
    "axs5_t.set_ylim(wind_mag_plot.min()-0.2,wind_mag_plot.max()+0.2)\n",
    "\n",
    "axs5_t.set_ylabel('')\n",
    "axs5_t.set_xlabel('')\n",
    "axs5_t.set_yticklabels([])\n",
    "axs5_t.spines['right'].set_color(wind_color)\n",
    "axs5_t.tick_params(axis='y', colors=wind_color)\n",
    "# axs5_t.set_yticks([])\n",
    "axs5.grid()\n",
    "axs5.set_xticks(np.arange(2,13,3))\n",
    "axs5.set_xticklabels(['Feb','May','Aug','Nov'],fontsize=fsize);\n",
    "\n",
    "# ###############################################################\n",
    "axs6 = fig.add_subplot(grid_top_right[2])\n",
    "eddy_a_climatology = abs_eddy_a_nh.groupby('time.month').mean('time')\n",
    "\n",
    "anomaly_plot = eddy_a_climatology-eddy_a_climatology.mean()\n",
    "axs6.bar(eddy_a_climatology.month, (anomaly_plot).where(anomaly_plot>0),color='darkorange')\n",
    "axs6.bar(eddy_a_climatology.month, (anomaly_plot).where(anomaly_plot<0),color='steelblue')\n",
    "axs6.bar(eddy_a_climatology.month, (anomaly_plot).where(anomaly_plot==anomaly_plot.max()),color='magenta')\n",
    "\n",
    "# c_eddy_a_climatology = c_eddy_a_nh.groupby('time.month').mean('time')\n",
    "# anomaly_plot = c_eddy_a_climatology-c_eddy_a_climatology.mean()\n",
    "# axs6.bar(c_eddy_a_climatology.month, (anomaly_plot),color='none',edgecolor='black', hatch=\"/\")\n",
    "axs6.set_ylim(-0.26,0.26)\n",
    "axs6.set_yticks((-0.25,0,0.25))\n",
    "\n",
    "axs6_t = axs6.twinx()\n",
    "wind_mag_plot = mean_wind_mag_year_nh_month-mean_wind_mag_year_nh_month.mean()\n",
    "axs6_t.plot(wind_mag_plot.month, wind_mag_plot.values, linestyle=':',  color=wind_color)\n",
    "max_value = wind_mag_plot.where(wind_mag_plot==wind_mag_plot.max())\n",
    "axs6_t.plot(max_value.month, max_value.values, marker='*', color=wind_color, zorder=10, markersize=10)\n",
    "axs6_t.set_ylim(wind_mag_plot.min()-0.2,wind_mag_plot.max()+0.2)\n",
    "\n",
    "axs6_t.set_ylabel('')\n",
    "axs6_t.set_xlabel('')\n",
    "# axs6_t.set_yticklabels([])\n",
    "# axs6_t.set_yticks([])\n",
    "axs6_t.spines['right'].set_color(wind_color)\n",
    "axs6_t.tick_params(axis='y', colors=wind_color)\n",
    "axs6_t.set_ylabel('(m/s)',color=wind_color)\n",
    "axs6.grid()\n",
    "axs6.set_xticks(np.arange(2,13,3))\n",
    "axs6.set_xticklabels(['Feb','May','Aug','Nov'],fontsize=fsize);\n",
    "\n",
    "# ###############################################################\n",
    "axs7 = fig.add_subplot(grid_bottom_left[2])\n",
    "eddy_n_climatology = eddy_n_sh.groupby('time.month').mean('time')\n",
    "\n",
    "anomaly_plot = eddy_n_climatology-eddy_n_climatology.mean()\n",
    "axs7.bar(eddy_n_climatology.month, (anomaly_plot).where(anomaly_plot>0),color='darkorange')\n",
    "axs7.bar(eddy_n_climatology.month, (anomaly_plot).where(anomaly_plot<0),color='steelblue')\n",
    "axs7.bar(eddy_n_climatology.month, (anomaly_plot).where(anomaly_plot==anomaly_plot.max()),color='magenta')\n",
    "\n",
    "# c_eddy_n_climatology = c_eddy_n_sh.groupby('time.month').mean('time')\n",
    "# anomaly_plot = c_eddy_n_climatology - c_eddy_n_climatology.mean()\n",
    "# axs7.bar(c_eddy_n_climatology.month, (anomaly_plot),color='none',edgecolor='black', hatch=\"/\")\n",
    "axs7.set_ylim(-101,101)\n",
    "\n",
    "axs7_t = axs7.twinx()\n",
    "wind_mag_plot = mean_wind_mag_year_sh_month-mean_wind_mag_year_sh_month.mean()\n",
    "axs7_t.plot(wind_mag_plot.month, wind_mag_plot.values, linestyle=':',  color=wind_color)\n",
    "max_value = wind_mag_plot.where(wind_mag_plot==wind_mag_plot.max())\n",
    "axs7_t.plot(max_value.month, max_value.values, marker='*', color=wind_color, zorder=10, markersize=10)\n",
    "axs7_t.set_ylim(wind_mag_plot.min()-0.2,wind_mag_plot.max()+0.2)\n",
    "\n",
    "axs7_t.set_ylabel('')\n",
    "axs7_t.set_xlabel('')\n",
    "axs7_t.set_yticklabels([])\n",
    "axs7_t.spines['right'].set_color(wind_color)\n",
    "axs7_t.tick_params(axis='y', colors=wind_color)\n",
    "# axs7_t.set_yticks([])\n",
    "axs7.grid()\n",
    "axs7.set_xticks(np.arange(2,13,3))\n",
    "axs7.set_xticklabels(['Feb','May','Aug','Nov'],fontsize=fsize);\n",
    "\n",
    "###############################################################\n",
    "axs8 = fig.add_subplot(grid_bottom_right[2])\n",
    "eddy_a_climatology = abs_eddy_a_sh.groupby('time.month').mean('time')\n",
    "\n",
    "anomaly_plot = eddy_a_climatology-eddy_a_climatology.mean()\n",
    "axs8.bar(eddy_a_climatology.month, (anomaly_plot).where(anomaly_plot>0),color='darkorange')\n",
    "axs8.bar(eddy_a_climatology.month, (anomaly_plot).where(anomaly_plot<0),color='steelblue')\n",
    "axs8.bar(eddy_a_climatology.month, (anomaly_plot).where(anomaly_plot==anomaly_plot.max()),color='magenta')\n",
    "\n",
    "# c_eddy_a_climatology = c_eddy_a_sh.groupby('time.month').mean('time')\n",
    "# anomaly_plot = c_eddy_a_climatology-c_eddy_a_climatology.mean()\n",
    "# axs8.bar(c_eddy_a_climatology.month, (anomaly_plot),color='none',edgecolor='black', hatch=\"/\")\n",
    "axs8.set_ylim(-0.21,0.21)\n",
    "axs8.set_yticks((-0.2,0,0.2))\n",
    "\n",
    "axs8_t = axs8.twinx()\n",
    "wind_mag_plot = mean_wind_mag_year_sh_month-mean_wind_mag_year_sh_month.mean()\n",
    "axs8_t.plot(wind_mag_plot.month, wind_mag_plot.values, linestyle=':',  color=wind_color)\n",
    "max_value = wind_mag_plot.where(wind_mag_plot==wind_mag_plot.max())\n",
    "axs8_t.plot(max_value.month, max_value.values, marker='*', color=wind_color, zorder=10, markersize=10)\n",
    "axs8_t.set_ylim(wind_mag_plot.min()-0.2,wind_mag_plot.max()+0.2)\n",
    "\n",
    "axs8_t.set_ylabel('')\n",
    "axs8_t.set_xlabel('')\n",
    "# axs8_t.set_yticklabels([])\n",
    "# axs8_t.set_yticks([])\n",
    "axs8_t.spines['right'].set_color(wind_color)\n",
    "axs8_t.tick_params(axis='y', colors=wind_color)\n",
    "axs8_t.set_ylabel('(m/s)',color=wind_color)\n",
    "axs8.grid()\n",
    "axs8.set_xticks(np.arange(2,13,3))\n",
    "axs8.set_xticklabels(['Feb','May','Aug','Nov'],fontsize=fsize);\n",
    "###############################################################\n",
    "\n",
    "axs1.text(0.02,1.02,r'a)',fontsize=12,transform=axs1.transAxes)\n",
    "axs2.text(0.02,1.02,r'b)',fontsize=12,transform=axs2.transAxes)\n",
    "axs3.text(0.02,1.02,r'e)',fontsize=12,transform=axs3.transAxes)\n",
    "axs4.text(0.02,1.02,r'f)',fontsize=12,transform=axs4.transAxes)\n",
    "axs5.text(0.02,1.08,r'c)',fontsize=12,transform=axs5.transAxes)\n",
    "axs6.text(0.02,1.08,r'd)',fontsize=12,transform=axs6.transAxes)\n",
    "axs7.text(0.02,1.08,r'g)',fontsize=12,transform=axs7.transAxes)\n",
    "axs8.text(0.02,1.08,r'h)',fontsize=12,transform=axs8.transAxes)\n",
    "\n",
    "###############################################################\n",
    "plt.savefig('Figure_7_eddy_stats_time_plot.pdf',dpi=300,bbox_inches='tight')"
   ]
  },
  {
   "cell_type": "code",
   "execution_count": null,
   "metadata": {},
   "outputs": [],
   "source": []
  }
 ],
 "metadata": {
  "kernelspec": {
   "display_name": "Python [conda env:analysis3-22.01]",
   "language": "python",
   "name": "conda-env-analysis3-22.01-py"
  },
  "language_info": {
   "codemirror_mode": {
    "name": "ipython",
    "version": 3
   },
   "file_extension": ".py",
   "mimetype": "text/x-python",
   "name": "python",
   "nbconvert_exporter": "python",
   "pygments_lexer": "ipython3",
   "version": "3.9.12"
  }
 },
 "nbformat": 4,
 "nbformat_minor": 4
}
