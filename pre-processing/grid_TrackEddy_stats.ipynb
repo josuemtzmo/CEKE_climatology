{
 "cells": [
  {
   "cell_type": "code",
   "execution_count": 1,
   "id": "eba3cf5a-8d91-4bfb-a69d-c042190472bf",
   "metadata": {},
   "outputs": [],
   "source": [
    "import xarray as xr\n",
    "import numpy as np\n",
    "import cmocean as cm\n",
    "import os\n",
    "import pandas as pd\n",
    "from matplotlib import cm as cmap\n",
    "%matplotlib inline"
   ]
  },
  {
   "cell_type": "code",
   "execution_count": 2,
   "id": "1c94b256-cbdf-47d9-8ddf-806e5beed1b5",
   "metadata": {},
   "outputs": [],
   "source": [
    "data=pd.read_csv('/g/data/v45/jm5970/AVISO_dataframe/trackeddy_V2.0_global_eddies_V2.csv')\n",
    "data['time']=pd.to_datetime(data['time'])"
   ]
  },
  {
   "cell_type": "code",
   "execution_count": 3,
   "id": "1e45ada0-be95-4e2c-863e-338159d02bae",
   "metadata": {},
   "outputs": [],
   "source": [
    "bins_x = np.hstack((np.arange(0.1,359.9,1),359.95))\n",
    "bins_y = np.arange(-70,70)"
   ]
  },
  {
   "cell_type": "code",
   "execution_count": 4,
   "id": "4679e3b6-1d31-4932-963f-53a00ad9e077",
   "metadata": {},
   "outputs": [],
   "source": [
    "data_fields=data[['time','neddy','eddy_amplitude','area_eddy','maxima_loc_y','maxima_loc_x']].set_index('time').sort_index()"
   ]
  },
  {
   "cell_type": "code",
   "execution_count": 5,
   "id": "2dba3452-fda6-40dc-aae8-f86672492f67",
   "metadata": {},
   "outputs": [],
   "source": [
    "data_fields['diameter'] = ( np.sqrt(data_fields[['area_eddy']]/(np.pi))*2 )/ 1000"
   ]
  },
  {
   "cell_type": "code",
   "execution_count": 6,
   "id": "37dc5e8d-8194-4aeb-9461-fc1d41f3807c",
   "metadata": {},
   "outputs": [],
   "source": [
    "data_fields['binned_x'] = pd.cut(data_fields['maxima_loc_x'], bins_x)\n",
    "data_fields['binned_y'] = pd.cut(data_fields['maxima_loc_y'], bins_y)"
   ]
  },
  {
   "cell_type": "code",
   "execution_count": 7,
   "id": "68487197-6d44-405f-b02b-1e9d875e2351",
   "metadata": {},
   "outputs": [],
   "source": [
    "neddy_count = data_fields.pivot_table(index=\"binned_x\", columns=\"binned_y\", values=\"neddy\",aggfunc=('count')).fillna(0)"
   ]
  },
  {
   "cell_type": "code",
   "execution_count": 8,
   "id": "4e39d778-c6df-4715-9269-236b9de054a8",
   "metadata": {},
   "outputs": [],
   "source": [
    "mean_amp = data_fields.pivot_table(index=\"binned_x\", columns=\"binned_y\", values=\"eddy_amplitude\",aggfunc=('mean')).fillna(0)"
   ]
  },
  {
   "cell_type": "code",
   "execution_count": 9,
   "id": "7def1b99-f0b3-4cfb-b438-961a5a8c25d3",
   "metadata": {},
   "outputs": [],
   "source": [
    "pos_eddy = data_fields.where(data_fields['eddy_amplitude']>0).pivot_table(index=\"binned_x\", columns=\"binned_y\", values=\"eddy_amplitude\",aggfunc=('mean')).fillna(0)\n",
    "neg_eddy = data_fields.where(data_fields['eddy_amplitude']<0).pivot_table(index=\"binned_x\", columns=\"binned_y\", values=\"eddy_amplitude\",aggfunc=('mean')).fillna(0)"
   ]
  },
  {
   "cell_type": "code",
   "execution_count": 10,
   "id": "6e9351f1-91ba-4c80-a719-87253fea077a",
   "metadata": {},
   "outputs": [],
   "source": [
    "diameter = data_fields.pivot_table(index=\"binned_x\", columns=\"binned_y\", values=\"diameter\",aggfunc=('mean')).fillna(0)"
   ]
  },
  {
   "cell_type": "code",
   "execution_count": 11,
   "id": "bd01e1d0-2ae3-48d5-9cb0-e3104b468a52",
   "metadata": {},
   "outputs": [],
   "source": [
    "neddy_stats = np.zeros((len(bins_y),len(bins_x)))*np.nan\n",
    "ampeddy_stats = np.zeros((len(bins_y),len(bins_x)))*np.nan\n",
    "diameter_stats = np.zeros((len(bins_y),len(bins_x)))*np.nan\n",
    "\n",
    "pos_eddy_stats = np.zeros((len(bins_y),len(bins_x)))*np.nan\n",
    "neg_eddy_stats = np.zeros((len(bins_y),len(bins_x)))*np.nan\n",
    "\n",
    "neddy_stats[:-1,:-1] = neddy_count.T\n",
    "ampeddy_stats[:-1,:-1] = mean_amp.T\n",
    "diameter_stats[:-1,:-1] = diameter.T\n",
    "\n",
    "pos_eddy_stats[:-1,:-1] = pos_eddy.T\n",
    "neg_eddy_stats[:-1,:-1] = neg_eddy.T\n",
    "\n",
    "\n",
    "eddy_climat = xr.Dataset(\n",
    "    {\n",
    "        \"eddy_count\": ([\"lat\", \"lon\"], neddy_stats),\n",
    "        \"eddy_amp\": ([\"lat\", \"lon\"], ampeddy_stats),\n",
    "        \"eddy_diameter\": ([\"lat\", \"lon\"], diameter_stats),\n",
    "        \"pos_eddy_amp\": ([\"lat\", \"lon\"], pos_eddy_stats),\n",
    "        \"neg_eddy_amp\": ([\"lat\", \"lon\"], neg_eddy_stats),\n",
    "    },\n",
    "    coords={\n",
    "        \"lon\": ([\"lon\"], bins_x[:]),\n",
    "        \"lat\": ([\"lat\"], bins_y[:])\n",
    "    },\n",
    ")"
   ]
  },
  {
   "cell_type": "code",
   "execution_count": 12,
   "id": "0e94e9f6-1774-41ca-92f1-469908e62a66",
   "metadata": {},
   "outputs": [],
   "source": [
    "eddy_climat = eddy_climat.interpolate_na(dim=\"lon\", method=\"linear\", fill_value=\"extrapolate\")"
   ]
  },
  {
   "cell_type": "code",
   "execution_count": 13,
   "id": "08915b0b-38ec-4ff7-b641-efc4d41659af",
   "metadata": {},
   "outputs": [],
   "source": [
    "eddy_climat.to_netcdf('../datasets/gridded_TrackEddy_stats.nc')"
   ]
  }
 ],
 "metadata": {
  "kernelspec": {
   "display_name": "Python [conda env:miniconda3-analysis3-22.01]",
   "language": "python",
   "name": "conda-env-miniconda3-analysis3-22.01-py"
  },
  "language_info": {
   "codemirror_mode": {
    "name": "ipython",
    "version": 3
   },
   "file_extension": ".py",
   "mimetype": "text/x-python",
   "name": "python",
   "nbconvert_exporter": "python",
   "pygments_lexer": "ipython3",
   "version": "3.9.10"
  }
 },
 "nbformat": 4,
 "nbformat_minor": 5
}
